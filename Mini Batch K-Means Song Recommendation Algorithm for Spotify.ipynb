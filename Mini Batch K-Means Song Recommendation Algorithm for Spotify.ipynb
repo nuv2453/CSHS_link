{
 "cells": [
  {
   "cell_type": "code",
   "execution_count": null,
   "id": "31f39a61",
   "metadata": {},
   "outputs": [],
   "source": [
    "import json\n",
    "from sklearn.cluster import MiniBatchKMeans\n",
    "\n",
    "# Step 1: Load data\n",
    "def load_music_data(file_path):\n",
    "    with open(file_path, 'r') as file:\n",
    "        data = json.load(file)\n",
    "    return data\n",
    "\n",
    "# Step 2: Extract features (Assuming features are already preprocessed)\n",
    "def extract_features(data):\n",
    "    features = []\n",
    "    for song in data:\n",
    "        feature_vector = [song['feature1'], song['feature2'], ..., song['featureN']]\n",
    "        features.append(feature_vector)\n",
    "    return features\n",
    "\n",
    "# Step 3: Mini Batch K-Means algorithm\n",
    "def recommend_songs(data, num_clusters=10, batch_size=100):\n",
    "    features = extract_features(data)\n",
    "    model = MiniBatchKMeans(n_clusters=num_clusters, batch_size=batch_size)\n",
    "    model.fit(features)\n",
    "    cluster_assignments = model.predict(features)\n",
    "    \n",
    "    recommendations = {}\n",
    "    for cluster_id in range(num_clusters):\n",
    "        cluster_songs = [data[i] for i, cluster in enumerate(cluster_assignments) if cluster == cluster_id]\n",
    "        recommendations[cluster_id] = cluster_songs\n",
    "        \n",
    "    return recommendations\n",
    "\n",
    "# Step 4: Usage\n",
    "if __name__ == \"__main__\":\n",
    "    music_data = load_music_data(\"music_data.json\")\n",
    "    recommendations = recommend_songs(music_data)\n",
    "    for cluster_id, songs in recommendations.items():\n",
    "        print(f\"Cluster {cluster_id} recommendations:\")\n",
    "        for song in songs:\n",
    "            print(song['title'])\n",
    "        print(\"\\n\")\n"
   ]
  }
 ],
 "metadata": {
  "kernelspec": {
   "display_name": "Python 3 (ipykernel)",
   "language": "python",
   "name": "python3"
  },
  "language_info": {
   "codemirror_mode": {
    "name": "ipython",
    "version": 3
   },
   "file_extension": ".py",
   "mimetype": "text/x-python",
   "name": "python",
   "nbconvert_exporter": "python",
   "pygments_lexer": "ipython3",
   "version": "3.11.5"
  }
 },
 "nbformat": 4,
 "nbformat_minor": 5
}
